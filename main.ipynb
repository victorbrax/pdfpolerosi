{
 "cells": [
  {
   "attachments": {},
   "cell_type": "markdown",
   "metadata": {},
   "source": [
    "# Imports"
   ]
  },
  {
   "cell_type": "code",
   "execution_count": 1,
   "metadata": {},
   "outputs": [],
   "source": [
    "import pandas as pd # Pandas, always first.   \n",
    "from utils.penhelp import *\n",
    "from utils.mailbox import *\n",
    "\n",
    "from reportlab.pdfgen           import canvas\n",
    "from reportlab.lib.pagesizes    import A4\n",
    "from reportlab.platypus         import Table\n",
    "\n",
    "from pdfbase.header             import *\n",
    "from pdfbase.footer             import *\n",
    "from page1.control              import *\n",
    "from page1.body                 import *\n",
    "from page2.control              import *\n",
    "from page2.body                 import *\n",
    "from page3.body                 import *\n",
    "from page3.control              import *"
   ]
  },
  {
   "attachments": {},
   "cell_type": "markdown",
   "metadata": {},
   "source": [
    "# Generate PDF"
   ]
  },
  {
   "cell_type": "code",
   "execution_count": 2,
   "metadata": {},
   "outputs": [],
   "source": [
    "def genPDF(infos):\n",
    "    # > PDF Statement\n",
    "    file = f'pdfoutput\\\\PO ORDER 7777.pdf'\n",
    "    pdf = canvas.Canvas(file, pagesize = A4)\n",
    "    # ? pdf = canvas.Canvas(file, pagesize = A4, encrypt='Sencinet') # It is also possible to lock printing, set password for editing and more.\n",
    "\n",
    "    pdf.setTitle(f'PO ORDER 7777')\n",
    "\n",
    "    # - Page 1\n",
    "    mainPag1(pdf, headerSpaceCell, bodySpaceCell1, footerSpaceCell, width, heightList)\n",
    "    pageNo(pdf)\n",
    "    pdf.showPage()\n",
    "\n",
    "    # - Page 2\n",
    "    mainPag2(pdf, headerSpaceCell, bodySpaceCell2, footerSpaceCell, width, heightList)\n",
    "    pageNo(pdf)\n",
    "    pdf.showPage()\n",
    "\n",
    "    # - Page 3\n",
    "    mainPag3(pdf, headerSpaceCell, bodySpaceCell3, footerSpaceCell, width, heightList)\n",
    "    pageNo(pdf)\n",
    "    pdf.showPage()\n",
    "\n",
    "    # - Finish\n",
    "    pdf.save()\n",
    "    return"
   ]
  },
  {
   "attachments": {},
   "cell_type": "markdown",
   "metadata": {},
   "source": [
    "# Pandas Central"
   ]
  },
  {
   "cell_type": "code",
   "execution_count": 3,
   "metadata": {},
   "outputs": [],
   "source": [
    "df = pd.read_excel('sheetfiles\\TEMPLATE PO (PDF).xlsx')\n",
    "apdf = df.loc[df['STATUS']=='APPROVED'] # Approved Lines"
   ]
  },
  {
   "cell_type": "code",
   "execution_count": 4,
   "metadata": {},
   "outputs": [
    {
     "data": {
      "text/html": [
       "<div>\n",
       "<style scoped>\n",
       "    .dataframe tbody tr th:only-of-type {\n",
       "        vertical-align: middle;\n",
       "    }\n",
       "\n",
       "    .dataframe tbody tr th {\n",
       "        vertical-align: top;\n",
       "    }\n",
       "\n",
       "    .dataframe thead th {\n",
       "        text-align: right;\n",
       "    }\n",
       "</style>\n",
       "<table border=\"1\" class=\"dataframe\">\n",
       "  <thead>\n",
       "    <tr style=\"text-align: right;\">\n",
       "      <th></th>\n",
       "      <th>ID</th>\n",
       "      <th>STATUS</th>\n",
       "      <th>SENT</th>\n",
       "      <th>BUYER</th>\n",
       "      <th>REQUESTER</th>\n",
       "      <th>PURCHASE ORDER</th>\n",
       "      <th>DATE</th>\n",
       "      <th>SOLD TO</th>\n",
       "      <th>SOLD TO_ADDRESS</th>\n",
       "      <th>SUPPLIER</th>\n",
       "      <th>...</th>\n",
       "      <th>SUPPLIER ADDRESS</th>\n",
       "      <th>SUPPLIER CITY</th>\n",
       "      <th>SUPPLIER COUNTRY</th>\n",
       "      <th>PAYMENT TERMS</th>\n",
       "      <th>DELIVER TO_NAME</th>\n",
       "      <th>ITEM</th>\n",
       "      <th>PRICE</th>\n",
       "      <th>QUANTITY</th>\n",
       "      <th>TOTAL AMOUNT</th>\n",
       "      <th>CURRENCY</th>\n",
       "    </tr>\n",
       "  </thead>\n",
       "  <tbody>\n",
       "    <tr>\n",
       "      <th>0</th>\n",
       "      <td>1</td>\n",
       "      <td>APPROVED</td>\n",
       "      <td>0</td>\n",
       "      <td>Maria Guzman</td>\n",
       "      <td>Denise Palerosi</td>\n",
       "      <td>54924</td>\n",
       "      <td>2022-12-22T19:32:48Z</td>\n",
       "      <td>Sencinet Latam Perú</td>\n",
       "      <td>Calle Martir Olaya 129 Edificio Empresarial Jo...</td>\n",
       "      <td>Perú - CLM SOFTWARE DEL PERU SAC</td>\n",
       "      <td>...</td>\n",
       "      <td>Calle 2 de Mayo Nro 534 Int. 308 - Miraflores</td>\n",
       "      <td>Lima</td>\n",
       "      <td>PERU</td>\n",
       "      <td>60 NET</td>\n",
       "      <td>Denise Palerosi</td>\n",
       "      <td>Manutencion en cliente</td>\n",
       "      <td>100</td>\n",
       "      <td>1</td>\n",
       "      <td>100</td>\n",
       "      <td>Peru_Novo Sol</td>\n",
       "    </tr>\n",
       "  </tbody>\n",
       "</table>\n",
       "<p>1 rows × 21 columns</p>\n",
       "</div>"
      ],
      "text/plain": [
       "   ID    STATUS  SENT         BUYER        REQUESTER  PURCHASE ORDER  \\\n",
       "0   1  APPROVED     0  Maria Guzman  Denise Palerosi           54924   \n",
       "\n",
       "                   DATE              SOLD TO  \\\n",
       "0  2022-12-22T19:32:48Z  Sencinet Latam Perú   \n",
       "\n",
       "                                     SOLD TO_ADDRESS  \\\n",
       "0  Calle Martir Olaya 129 Edificio Empresarial Jo...   \n",
       "\n",
       "                           SUPPLIER  ...  \\\n",
       "0  Perú - CLM SOFTWARE DEL PERU SAC  ...   \n",
       "\n",
       "                                SUPPLIER ADDRESS SUPPLIER CITY  \\\n",
       "0  Calle 2 de Mayo Nro 534 Int. 308 - Miraflores          Lima   \n",
       "\n",
       "  SUPPLIER COUNTRY PAYMENT TERMS  DELIVER TO_NAME                    ITEM  \\\n",
       "0             PERU        60 NET  Denise Palerosi  Manutencion en cliente   \n",
       "\n",
       "  PRICE  QUANTITY  TOTAL AMOUNT       CURRENCY  \n",
       "0   100         1           100  Peru_Novo Sol  \n",
       "\n",
       "[1 rows x 21 columns]"
      ]
     },
     "execution_count": 4,
     "metadata": {},
     "output_type": "execute_result"
    }
   ],
   "source": [
    "apdf"
   ]
  },
  {
   "cell_type": "code",
   "execution_count": 5,
   "metadata": {},
   "outputs": [
    {
     "name": "stdout",
     "output_type": "stream",
     "text": [
      "0\n",
      "1\n",
      "0\n",
      "Maria Guzman\n",
      "Denise Palerosi\n",
      "denise.palerosi@sencinet.com\n",
      "54924\n",
      "2022-12-22T19:32:48Z\n",
      "Sencinet Latam Perú\n",
      "Calle Martir Olaya 129 Edificio Empresarial Jose Pardo  oficina 1901 - 1907 Miraflores CP 15074\n",
      "Perú - CLM SOFTWARE DEL PERU SAC\n",
      "CLM SOFTWARE DEL PERU SAC\n",
      "Calle 2 de Mayo Nro 534 Int. 308 - Miraflores\n",
      "Lima\n",
      "PERU\n",
      "60 NET\n",
      "Denise Palerosi\n",
      "Manutencion en cliente\n",
      "100\n",
      "1\n",
      "100\n",
      "Peru_Novo Sol\n"
     ]
    }
   ],
   "source": [
    "for i in apdf.itertuples(index=False):\n",
    "    if (i[1] == 'APPROVED'):\n",
    "\n",
    "        pdfInfos = []\n",
    "\n",
    "        print(i.SENT)\n",
    "        print(i.ID)   \n",
    "        print(i[2])  \n",
    "        print(i[3])  \n",
    "        print(i[4])   \n",
    "        print(genMail(i[4])) \n",
    "        print(i[5])  \n",
    "        print(i[6])   \n",
    "        print(i[7])   \n",
    "        print(i[8])   \n",
    "        print(i[9])   \n",
    "        print(i[10]) \n",
    "        print(i[11]) \n",
    "        print(i[12]) \n",
    "        print(i[13]) \n",
    "        print(i[14])\n",
    "        print(i[15])  \n",
    "        print(i[16])\n",
    "        print(i[17])\n",
    "        print(i[18])\n",
    "        print(i[19])\n",
    "        print(i[20])\n",
    "\n",
    "        genPDF(pdfInfos)"
   ]
  },
  {
   "cell_type": "code",
   "execution_count": null,
   "metadata": {},
   "outputs": [],
   "source": []
  }
 ],
 "metadata": {
  "kernelspec": {
   "display_name": "Python 3",
   "language": "python",
   "name": "python3"
  },
  "language_info": {
   "codemirror_mode": {
    "name": "ipython",
    "version": 3
   },
   "file_extension": ".py",
   "mimetype": "text/x-python",
   "name": "python",
   "nbconvert_exporter": "python",
   "pygments_lexer": "ipython3",
   "version": "3.10.6"
  },
  "orig_nbformat": 4,
  "vscode": {
   "interpreter": {
    "hash": "26de051ba29f2982a8de78e945f0abaf191376122a1563185a90213a26c5da77"
   }
  }
 },
 "nbformat": 4,
 "nbformat_minor": 2
}
